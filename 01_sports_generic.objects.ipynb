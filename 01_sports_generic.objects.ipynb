{
 "cells": [
  {
   "cell_type": "code",
   "execution_count": null,
   "metadata": {},
   "outputs": [],
   "source": [
    "# default_exp sports_generic.objects"
   ]
  },
  {
   "cell_type": "markdown",
   "metadata": {},
   "source": [
    "# sports_generic.objects\n",
    "\n",
    "> A module of generic sports objects based on the `Base_Handler` class."
   ]
  },
  {
   "cell_type": "markdown",
   "metadata": {},
   "source": [
    "These classes are meant to serve as base objects that should scale to multiple types of sports and therefore are quite generic. The can be inherited and used to scale out a project as shown in the example documents.\n",
    "\n",
    "To have a property carry between a DataFrame and an object it must be decorated as a property! Note that all attributes that are assigned to the object also need to be present at the top level of the class outside of `__init__` for the `get_properties` method to work - I think this can be fixed since we actually don't want to return these attributes anyway"
   ]
  },
  {
   "cell_type": "code",
   "execution_count": null,
   "metadata": {},
   "outputs": [],
   "source": [
    "# export\n",
    "\n",
    "import uuid\n",
    "# from handlers.players import Players\n",
    "from oos.base import Base_Object\n",
    "\n",
    "class Team(Base_Object):\n",
    "    '''\n",
    "    Simple class to hold team info\n",
    "    '''\n",
    "\n",
    "    # _object_id = None\n",
    "    _name = None\n",
    "    _name_id = None\n",
    "    _division = None\n",
    "    _seed = None\n",
    "    _players = None\n",
    "    _ids = None\n",
    "\n",
    "    def __init__(self, object_id=None, name=None, division=None,\n",
    "                 seed=None, players=None):\n",
    "        self._name = str(name) if name else 'Unknown'\n",
    "        self._name_id = str(uuid.uuid3(uuid.NAMESPACE_OID, self._name))\n",
    "        object_id = object_id if object_id \\\n",
    "                                    else self._name_id\n",
    "        super().__init__(object_id=object_id)\n",
    "        self._division = str(division) if division is not None \\\n",
    "                                       else None\n",
    "        self._seed = seed\n",
    "        if players is not None:\n",
    "            self._players = players\n",
    "        else:\n",
    "            self._players = None\n",
    "\n",
    "        self._ids = list(set([self._name, self._name_id, self._object_id]))\n",
    "   \n",
    "    @property\n",
    "    def name(self):\n",
    "        '''\n",
    "        name of team\n",
    "        '''\n",
    "        return self._name\n",
    "    \n",
    "    @name.setter\n",
    "    def name(self, new_name):\n",
    "        self._name = new_name\n",
    "        self._name_id = str(uuid.uuid3(uuid.NAMESPACE_OID, self._name))\n",
    "\n",
    "    @property\n",
    "    def division(self):\n",
    "        return self._division\n",
    "    \n",
    "    @property\n",
    "    def seed(self):\n",
    "        return self._seed\n",
    "    \n",
    "    @property\n",
    "    def division(self):\n",
    "        return self._division\n",
    "\n",
    "    @property\n",
    "    def encoding(self):\n",
    "        return {self._name: self._object_id}\n",
    "\n",
    "    @property\n",
    "    def decoding(self):\n",
    "        return {self._object_id: self._name}\n",
    "\n",
    "\n",
    "    def __repr__(self):\n",
    "        return f'{self.name}'\n",
    "\n",
    "    def get_players(self):\n",
    "        return self._players\n",
    "\n",
    "    def set_players(self, players):\n",
    "        assert isinstance(players, type(Players()))\n",
    "        self._players = players\n",
    "\n",
    "    def add_alt_id(self, alt_id):\n",
    "        alt_id = str(alt_id)\n",
    "        if alt_id in self._ids:\n",
    "            return\n",
    "        self._ids.append(alt_id)\n",
    "    \n",
    "    def remove_alt_id(self, alt_id):\n",
    "        alt_id = str(alt_id)\n",
    "        if alt_id in self._ids:\n",
    "            self._ids.remove(alt_id)\n",
    "    \n",
    "    def get_alt_ids(self):\n",
    "        return self._ids\n"
   ]
  },
  {
   "cell_type": "markdown",
   "metadata": {},
   "source": [
    "Let's try making a team"
   ]
  },
  {
   "cell_type": "code",
   "execution_count": null,
   "metadata": {},
   "outputs": [
    {
     "data": {
      "application/json": {
       "division": "AFC South",
       "name": "Colts",
       "object_id": "48add1b8-ba9b-3532-ad8f-39fa70a3a0f0",
       "seed": null
      },
      "text/plain": [
       "<IPython.core.display.JSON object>"
      ]
     },
     "execution_count": null,
     "metadata": {
      "application/json": {
       "expanded": false,
       "root": "root"
      }
     },
     "output_type": "execute_result"
    }
   ],
   "source": [
    "from IPython.display import JSON\n",
    "\n",
    "colts = Team(name='Colts', division='AFC South')\n",
    "JSON(colts.get_properties())"
   ]
  },
  {
   "cell_type": "code",
   "execution_count": null,
   "metadata": {},
   "outputs": [],
   "source": [
    "# export\n",
    "\n",
    "class Player(Base_Object):\n",
    "    '''\n",
    "    Game class is an object for each tournament slot that is\n",
    "    populated as the tournament continues. It also holds functions\n",
    "    relavent to a game like updating teams from the results dict\n",
    "    and returning a winner based on the predictions from the\n",
    "    submission class.\n",
    "    '''\n",
    "\n",
    "    _name = None\n",
    "    _name_id = None\n",
    "    _age = None\n",
    "    _position = None\n",
    "    _height = None\n",
    "    _weight = None\n",
    "    _college = None\n",
    "    _team_id = None\n",
    "    \n",
    "    def __init__(self, object_id=None, name=None, age=None, position=None,\n",
    "                 height = None, weight=None, college=None,\n",
    "                 team_id=None):\n",
    "        \n",
    "        self._name= str(name) if name else 'Unknown'\n",
    "        self._name_id = str(uuid.uuid3(uuid.NAMESPACE_OID, self._name))\n",
    "        self._object_id = self._object_id if self._object_id \\\n",
    "                                          else self._name_id\n",
    "\n",
    "        super().__init__(object_id=self._object_id)\n",
    "        self._age = int(age) if age else None\n",
    "        self._position = str(position) if position else None\n",
    "        self._height = float(height) if height else None\n",
    "        self._weight = float(weight) if weight else None\n",
    "        self._college = str(college) if college else None\n",
    "        self._team_id = str(team_id) if team_id else None\n",
    "\n",
    "    @property\n",
    "    def name(self):\n",
    "        return self._name\n",
    "\n",
    "    @property\n",
    "    def age(self):\n",
    "        return self._age\n",
    "\n",
    "    @property\n",
    "    def position(self):\n",
    "        return self._position\n",
    "\n",
    "    @property\n",
    "    def height(self):\n",
    "        return self._height\n",
    "\n",
    "    @property\n",
    "    def weight(self):\n",
    "        return self._weight\n",
    "\n",
    "    @property\n",
    "    def college(self):\n",
    "        return self._college\n",
    "\n",
    "    @property\n",
    "    def team_id(self):\n",
    "        return self._team_id\n",
    "\n",
    "    def __repr__(self):\n",
    "        return self._name"
   ]
  },
  {
   "cell_type": "markdown",
   "metadata": {},
   "source": [
    "Or try making a player:"
   ]
  },
  {
   "cell_type": "code",
   "execution_count": null,
   "metadata": {},
   "outputs": [
    {
     "data": {
      "text/plain": [
       "Darius Leonard"
      ]
     },
     "execution_count": null,
     "metadata": {},
     "output_type": "execute_result"
    }
   ],
   "source": [
    "player = Player(name='Darius Leonard',college='South Carolina State', height=1.88, weight=104)\n",
    "player"
   ]
  },
  {
   "cell_type": "code",
   "execution_count": null,
   "metadata": {},
   "outputs": [],
   "source": [
    "# export\n",
    "\n",
    "class Game(Base_Object):\n",
    "    '''\n",
    "    Game class is an object for each tournament slot that is\n",
    "    populated as the tournament continues. It also holds functions\n",
    "    relavent to a game like updating teams from the results dict\n",
    "    and returning a winner based on the predictions from the\n",
    "    submission class.\n",
    "    '''\n",
    "\n",
    "    _object_id = None\n",
    "    _t1_id = None\n",
    "    _t2_id = None\n",
    "    _t1_score = None\n",
    "    _t2_score = None\n",
    "    _win_id = None\n",
    "    _day = None\n",
    "    _year = None\n",
    "    _location = None\n",
    "    \n",
    "    def __init__(self, object_id=None, t1_id=None, t2_id=None,\n",
    "                 t1_score=None, t2_score=None, win_id=None,\n",
    "                 day=None, year=None, location=None, teams=None,\n",
    "                 players=None):\n",
    "        self._object_id = self._object_id if self._object_id \\\n",
    "                                          else str(uuid.uuid4())\n",
    "\n",
    "        super().__init__(object_id=self._object_id)\n",
    "        self._t1_id = str(t1_id) if t1_id else None\n",
    "        self._t2_id = str(t2_id) if t2_id else None\n",
    "        self._t1_score = int(t1_score) if t1_score else None\n",
    "        self._t2_score = int(t2_score) if t2_score else None\n",
    "        self._t2_score = str(win_id) if win_id else None\n",
    "        self._day = day if day else None\n",
    "        self._year = year if year else None\n",
    "        self._location = location if location else None\n",
    "        if teams is not None:\n",
    "            self._teams = teams.query(\n",
    "                f'object_id in {[self._t1_id, self._t2_id]}'\n",
    "                )\n",
    "            self._t1_name = self._teams.objects.get(self._t1_id).name\n",
    "            self._t2_name = self._teams.objects.get(self._t2_id).name\n",
    "        \n",
    "        if players is not None:\n",
    "            self._t1_players = teams.query(f'team_id == {self._t1_id}')\n",
    "            self._t2_players = teams.query(f'team_id == {self._t2_id}')\n",
    "\n",
    "    @property\n",
    "    def t1_id(self):\n",
    "        return self._t1_id\n",
    "\n",
    "    @property\n",
    "    def t2_id(self):\n",
    "        return self._t2_id\n",
    "\n",
    "    @property\n",
    "    def t1_score(self):\n",
    "        return self._t1_score\n",
    "\n",
    "    @property\n",
    "    def t2_score(self):\n",
    "        return self._t2_score\n",
    "\n",
    "    @property\n",
    "    def win_id(self):\n",
    "        return self._win_id\n",
    "\n",
    "    @property\n",
    "    def day(self):\n",
    "        return self._day\n",
    "\n",
    "    @property\n",
    "    def year(self):\n",
    "        return self._year\n",
    "\n",
    "    @property\n",
    "    def location(self):\n",
    "        return self._location\n",
    "\n",
    "    def __repr__(self):\n",
    "        if self._teams is not None:\n",
    "            return f'{self._t1_name} vs. {self._t2_name}'\n"
   ]
  },
  {
   "cell_type": "markdown",
   "metadata": {},
   "source": [
    "And a game:"
   ]
  },
  {
   "cell_type": "code",
   "execution_count": null,
   "metadata": {},
   "outputs": [],
   "source": [
    "texans = Team(name='Texans', division='AFC South')\n",
    "\n",
    "rivalry = Game(t1_id=colts.object_id, t2_id=texans.object_id)"
   ]
  },
  {
   "cell_type": "code",
   "execution_count": null,
   "metadata": {},
   "outputs": [],
   "source": []
  }
 ],
 "metadata": {
  "kernelspec": {
   "display_name": "Python 3.9.7 64-bit ('oos': conda)",
   "name": "python3"
  }
 },
 "nbformat": 4,
 "nbformat_minor": 2
}
