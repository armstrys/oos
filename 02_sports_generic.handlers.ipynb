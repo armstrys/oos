{
 "cells": [
  {
   "cell_type": "code",
   "execution_count": null,
   "metadata": {},
   "outputs": [],
   "source": [
    "# default_exp sports_generic.handlers"
   ]
  },
  {
   "cell_type": "markdown",
   "metadata": {},
   "source": [
    "# sports_generic.handlers\n",
    "\n",
    "> A set of sports oriented handlers to work with the objects"
   ]
  },
  {
   "cell_type": "code",
   "execution_count": null,
   "metadata": {},
   "outputs": [],
   "source": [
    "# export\n",
    "\n",
    "from oos.base import Base_Handler\n",
    "from oos.sports_generic.objects import Player, Team, Game\n",
    "\n",
    "class Players(Base_Handler):\n",
    "\n",
    "    def __init__(self, **kwargs):\n",
    "        '''\n",
    "        class should be instantiated with a list of Team object created using\n",
    "        this package or with a pandas dataframe with the appropriate colums\n",
    "        '''\n",
    "        super().__init__(obj_class=Player, **kwargs)\n"
   ]
  },
  {
   "cell_type": "code",
   "execution_count": null,
   "metadata": {},
   "outputs": [
    {
     "data": {
      "text/plain": [
       "{'name': 'Darius Leonard',\n",
       " 'object_id': '1e3a88e6-a245-3967-b54a-3f146a181789',\n",
       " 'age': None,\n",
       " 'position': None,\n",
       " 'height': 1.88,\n",
       " 'weight': 104.0,\n",
       " 'college': 'South Carolina State',\n",
       " 'team_id': None}"
      ]
     },
     "execution_count": null,
     "metadata": {},
     "output_type": "execute_result"
    }
   ],
   "source": [
    "player = Player(name='Darius Leonard',college='South Carolina State', height=1.88, weight=104)\n",
    "player._name_id\n",
    "player.get_properties()"
   ]
  },
  {
   "cell_type": "code",
   "execution_count": null,
   "metadata": {},
   "outputs": [],
   "source": [
    "# export\n",
    "\n",
    "class Teams(Base_Handler):\n",
    "\n",
    "    def __init__(self, **kwargs):\n",
    "        '''\n",
    "        class should be instantiated with a list of Team object created using\n",
    "        this package or with a pandas dataframe with the appropriate colums\n",
    "        '''\n",
    "        super().__init__(obj_class=Team, **kwargs)\n"
   ]
  },
  {
   "cell_type": "code",
   "execution_count": null,
   "metadata": {},
   "outputs": [
    {
     "data": {
      "text/html": [
       "<div>\n",
       "<style scoped>\n",
       "    .dataframe tbody tr th:only-of-type {\n",
       "        vertical-align: middle;\n",
       "    }\n",
       "\n",
       "    .dataframe tbody tr th {\n",
       "        vertical-align: top;\n",
       "    }\n",
       "\n",
       "    .dataframe thead th {\n",
       "        text-align: right;\n",
       "    }\n",
       "</style>\n",
       "<table border=\"1\" class=\"dataframe\">\n",
       "  <thead>\n",
       "    <tr style=\"text-align: right;\">\n",
       "      <th></th>\n",
       "      <th>name</th>\n",
       "      <th>object_id</th>\n",
       "      <th>division</th>\n",
       "      <th>seed</th>\n",
       "    </tr>\n",
       "  </thead>\n",
       "  <tbody>\n",
       "    <tr>\n",
       "      <th>0</th>\n",
       "      <td>Colts</td>\n",
       "      <td>48add1b8-ba9b-3532-ad8f-39fa70a3a0f0</td>\n",
       "      <td>AFC South</td>\n",
       "      <td>None</td>\n",
       "    </tr>\n",
       "  </tbody>\n",
       "</table>\n",
       "</div>"
      ],
      "text/plain": [
       "    name                             object_id   division  seed\n",
       "0  Colts  48add1b8-ba9b-3532-ad8f-39fa70a3a0f0  AFC South  None"
      ]
     },
     "execution_count": null,
     "metadata": {},
     "output_type": "execute_result"
    }
   ],
   "source": [
    "colts = Team(name='Colts', division='AFC South')\n",
    "teams = Teams(obj_list=[colts])\n",
    "teams.dataframe\n"
   ]
  },
  {
   "cell_type": "code",
   "execution_count": null,
   "metadata": {},
   "outputs": [],
   "source": [
    "# export\n",
    "\n",
    "class Games(Base_Handler):\n",
    "\n",
    "    def __init__(self, **kwargs):\n",
    "        '''\n",
    "        class should be instantiated with a list of Team object created using\n",
    "        this package or with a pandas dataframe with the appropriate colums\n",
    "        '''\n",
    "        super().__init__(Game, **kwargs)\n",
    "        \n",
    "    def add_swapped_games(self):\n",
    "        NotImplementedError('add a swapped version of each game' \\\n",
    "                            'to the DataFrame')"
   ]
  },
  {
   "cell_type": "code",
   "execution_count": null,
   "metadata": {},
   "outputs": [],
   "source": [
    "texans = Team(name='Texans', division='AFC South')\n",
    "\n",
    "rivalry = Game(t1_id=colts.object_id, t2_id=texans.object_id)"
   ]
  },
  {
   "cell_type": "code",
   "execution_count": null,
   "metadata": {},
   "outputs": [
    {
     "data": {
      "text/html": [
       "<div>\n",
       "<style scoped>\n",
       "    .dataframe tbody tr th:only-of-type {\n",
       "        vertical-align: middle;\n",
       "    }\n",
       "\n",
       "    .dataframe tbody tr th {\n",
       "        vertical-align: top;\n",
       "    }\n",
       "\n",
       "    .dataframe thead th {\n",
       "        text-align: right;\n",
       "    }\n",
       "</style>\n",
       "<table border=\"1\" class=\"dataframe\">\n",
       "  <thead>\n",
       "    <tr style=\"text-align: right;\">\n",
       "      <th></th>\n",
       "      <th>object_id</th>\n",
       "      <th>t1_id</th>\n",
       "      <th>t2_id</th>\n",
       "      <th>t1_score</th>\n",
       "      <th>t2_score</th>\n",
       "      <th>day</th>\n",
       "      <th>year</th>\n",
       "      <th>location</th>\n",
       "    </tr>\n",
       "  </thead>\n",
       "  <tbody>\n",
       "    <tr>\n",
       "      <th>0</th>\n",
       "      <td>5c45c322-373a-497a-a929-9668dae6870c</td>\n",
       "      <td>48add1b8-ba9b-3532-ad8f-39fa70a3a0f0</td>\n",
       "      <td>fc517510-8517-36d8-b900-6402cccc5506</td>\n",
       "      <td>None</td>\n",
       "      <td>None</td>\n",
       "      <td>None</td>\n",
       "      <td>None</td>\n",
       "      <td>None</td>\n",
       "    </tr>\n",
       "  </tbody>\n",
       "</table>\n",
       "</div>"
      ],
      "text/plain": [
       "                              object_id                                 t1_id  \\\n",
       "0  5c45c322-373a-497a-a929-9668dae6870c  48add1b8-ba9b-3532-ad8f-39fa70a3a0f0   \n",
       "\n",
       "                                  t2_id t1_score t2_score   day  year location  \n",
       "0  fc517510-8517-36d8-b900-6402cccc5506     None     None  None  None     None  "
      ]
     },
     "execution_count": null,
     "metadata": {},
     "output_type": "execute_result"
    }
   ],
   "source": [
    "games = Games(obj_list=[rivalry])\n",
    "games.dataframe"
   ]
  },
  {
   "cell_type": "code",
   "execution_count": null,
   "metadata": {},
   "outputs": [],
   "source": []
  }
 ],
 "metadata": {
  "kernelspec": {
   "display_name": "Python 3.9.7 64-bit ('oos': conda)",
   "name": "python3"
  }
 },
 "nbformat": 4,
 "nbformat_minor": 2
}
